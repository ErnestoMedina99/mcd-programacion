{
 "cells": [
  {
   "cell_type": "markdown",
   "id": "cd302bb2-1b55-45d8-9df1-e92d5c875a2a",
   "metadata": {},
   "source": [
    "## Problema 1 \n",
    "Escribe un predicado que verifica si una cadena de caracteres es un dígito."
   ]
  },
  {
   "cell_type": "code",
   "execution_count": 6,
   "id": "e8307efb-abf7-4ec4-8861-cd7d84760719",
   "metadata": {},
   "outputs": [],
   "source": [
    "def es_digito(x):\n",
    "    \"\"\"\n",
    "    Verifica qye x sea una cadena con un elemento que sea dígito.\n",
    "    \"\"\"\n",
    "\n",
    "    return (\n",
    "        isinstance(x, str) and\n",
    "        len(x) == 1 and\n",
    "        x in \"0123456789\"\n",
    "    )"
   ]
  },
  {
   "cell_type": "code",
   "execution_count": 7,
   "id": "98b8bc4f-b078-4fce-96da-73bd8eb68e9c",
   "metadata": {},
   "outputs": [],
   "source": [
    "assert not es_digito(0)\n",
    "assert es_digito('0')\n",
    "assert not es_digito('10')\n",
    "assert not es_digito('a')"
   ]
  },
  {
   "cell_type": "code",
   "execution_count": 8,
   "id": "ef2a5039-6b0d-492d-ab69-361494a2982c",
   "metadata": {},
   "outputs": [
    {
     "data": {
      "text/plain": [
       "True"
      ]
     },
     "execution_count": 8,
     "metadata": {},
     "output_type": "execute_result"
    }
   ],
   "source": [
    "es_digito(\"3\")"
   ]
  },
  {
   "cell_type": "code",
   "execution_count": 9,
   "id": "47f78174-05aa-4f0b-bc33-376fc7903d56",
   "metadata": {},
   "outputs": [
    {
     "data": {
      "text/plain": [
       "False"
      ]
     },
     "execution_count": 9,
     "metadata": {},
     "output_type": "execute_result"
    }
   ],
   "source": [
    "es_digito(\"a\")"
   ]
  },
  {
   "cell_type": "code",
   "execution_count": 10,
   "id": "66246120-3358-4795-9294-4451dcbbdc86",
   "metadata": {},
   "outputs": [
    {
     "data": {
      "text/plain": [
       "False"
      ]
     },
     "execution_count": 10,
     "metadata": {},
     "output_type": "execute_result"
    }
   ],
   "source": [
    "es_digito(\"321\")"
   ]
  },
  {
   "cell_type": "markdown",
   "id": "9e7116d4-0491-43ce-ace7-0f32766f64e4",
   "metadata": {},
   "source": [
    "## Problema 2\n",
    "Escribe un predicado que verifica si una cadena de caracteres consiste únicamente de dígitos."
   ]
  },
  {
   "cell_type": "code",
   "execution_count": 11,
   "id": "399dd24b-5ba7-4dda-83bd-7556af7995ba",
   "metadata": {},
   "outputs": [],
   "source": [
    "def solo_digitos_desde(x, i):\n",
    "    return(\n",
    "        True if len(x)==i\n",
    "        else es_digito(x[i]) and solo_digitos_desde(x, i+1)\n",
    "    )\n",
    "\n",
    "def solo_digitos(x):\n",
    "    return solo_digitos_desde(x, 0)"
   ]
  },
  {
   "cell_type": "code",
   "execution_count": 12,
   "id": "8565344b-cebd-4ed3-b46f-038401683c28",
   "metadata": {},
   "outputs": [],
   "source": [
    "assert solo_digitos(\"01231230123123047234\")\n",
    "assert not solo_digitos(\"123x321\")\n",
    "assert solo_digitos(\"0\")\n",
    "assert solo_digitos(\"\")"
   ]
  },
  {
   "cell_type": "code",
   "execution_count": 13,
   "id": "2b9e8b01-0284-4eba-8f7d-6713eefffb04",
   "metadata": {},
   "outputs": [
    {
     "data": {
      "text/plain": [
       "True"
      ]
     },
     "execution_count": 13,
     "metadata": {},
     "output_type": "execute_result"
    }
   ],
   "source": [
    "solo_digitos(\"123\")"
   ]
  },
  {
   "cell_type": "code",
   "execution_count": 14,
   "id": "3a3bbf24-2baa-4188-b132-40cbc52acd72",
   "metadata": {},
   "outputs": [
    {
     "data": {
      "text/plain": [
       "False"
      ]
     },
     "execution_count": 14,
     "metadata": {},
     "output_type": "execute_result"
    }
   ],
   "source": [
    "solo_digitos(\"x13a\")"
   ]
  },
  {
   "cell_type": "markdown",
   "id": "802b1c98-8a33-41e9-9c89-6ffc9d1653eb",
   "metadata": {},
   "source": [
    "## Problema 3\n",
    "Escribe una función que genere un dígito de forma aleatoria."
   ]
  },
  {
   "cell_type": "code",
   "execution_count": 15,
   "id": "3860de5a-1126-449d-95b8-a957bc561ceb",
   "metadata": {},
   "outputs": [],
   "source": [
    "# Se importa la librería random\n",
    "import random\n",
    "\n",
    "# Se hace elegir de manera aleatoria de entre entre todos los dígitos\n",
    "def digito_aleatorio():\n",
    "    return random.choice(\"0123456789\")"
   ]
  },
  {
   "cell_type": "code",
   "execution_count": 16,
   "id": "2241f6cb-da92-425d-89ba-6ae739beca56",
   "metadata": {},
   "outputs": [
    {
     "data": {
      "text/plain": [
       "'6'"
      ]
     },
     "execution_count": 16,
     "metadata": {},
     "output_type": "execute_result"
    }
   ],
   "source": [
    "digito_aleatorio()"
   ]
  },
  {
   "cell_type": "markdown",
   "id": "3397e4be-e29d-45c1-8a5e-0a85baa47ae3",
   "metadata": {},
   "source": [
    "## Problema 4\n",
    "Escribe una función que genera una cadena con $n$ dígitos aleatorios."
   ]
  },
  {
   "cell_type": "code",
   "execution_count": 17,
   "id": "64377ac8-4fdf-473e-8148-9094cb5df006",
   "metadata": {},
   "outputs": [],
   "source": [
    "#Escribe una función que genera una cadena con $n$ dígitos aleatorios.\n",
    "\n",
    "def random_chain(n):\n",
    "    assert not n<0,'Wey, no hay cadenas de longitudes negativas'\n",
    "    \n",
    "    digitos = random.choices('0123456789', k = n)\n",
    "    return ''.join(digitos)"
   ]
  },
  {
   "cell_type": "code",
   "execution_count": 18,
   "id": "1d6b690f-f358-47d9-8f98-feb2bd3f8027",
   "metadata": {},
   "outputs": [
    {
     "data": {
      "text/plain": [
       "'3727'"
      ]
     },
     "execution_count": 18,
     "metadata": {},
     "output_type": "execute_result"
    }
   ],
   "source": [
    "random_chain(4)"
   ]
  },
  {
   "cell_type": "markdown",
   "id": "46aa61ca-e403-4c97-a585-71db05f05e60",
   "metadata": {},
   "source": [
    "## Problema 5\n",
    "Escribe una función que calcule la distancia de Hamming de dos cadenas de dígitos del mismo tamaño.a, donde \r\n",
    "."
   ]
  },
  {
   "cell_type": "code",
   "execution_count": 19,
   "id": "cd25b211-2dcb-4f3f-ad97-ea352b32645d",
   "metadata": {},
   "outputs": [],
   "source": [
    "def pre_hamming(chain1, chain2, i):\n",
    "    return (\n",
    "        0 if i == -1\n",
    "        else (chain1[i] != chain2[i]) + pre_hamming(chain1, chain2, i-1)\n",
    "    )\n",
    "\n",
    "def hamming(chain1, chain2):\n",
    "    assert solo_digitos(chain1) and solo_digitos(chain2) and len(chain1) == len(chain2), 'Solo cadenas de digitos del mismo tamaño'\n",
    "    return pre_hamming(chain1, chain2, len(chain1)-1)"
   ]
  },
  {
   "cell_type": "code",
   "execution_count": 20,
   "id": "ca487d9e-1f8c-4f8c-8f73-ec65c30c10dd",
   "metadata": {},
   "outputs": [
    {
     "data": {
      "text/plain": [
       "1"
      ]
     },
     "execution_count": 20,
     "metadata": {},
     "output_type": "execute_result"
    }
   ],
   "source": [
    "hamming(\"123\", \"023\")"
   ]
  },
  {
   "cell_type": "markdown",
   "id": "f9fe625d-ec2e-4dbd-a374-7c672e62f0b3",
   "metadata": {},
   "source": [
    "## Problema 6\n",
    "Escribe una función que dada una cadena de dígitos, regresa una cadena igual pero con un dígito cualquiera modificado a otro de forma aleatoria. "
   ]
  },
  {
   "cell_type": "code",
   "execution_count": 21,
   "id": "37f20338-b6dd-494f-b023-a8a1959f03a0",
   "metadata": {},
   "outputs": [],
   "source": [
    "# Escribe una función que dada una cadena de dígitos, regresa una cadena igual pero con \n",
    "# un dígito cualquiera modificado a otro de forma aleatoria.\n",
    "\n",
    "def modify_one(chain):\n",
    "    \n",
    "    assert chain.isdigit(), 'Cadena con solo numeros por favor'\n",
    "    \n",
    "    index = random.randint(0,len(chain)-1)\n",
    "    new = random.choice('0123456789'.replace(chain[index],''))\n",
    "    \n",
    "    return chain[:index]+new+chain[index+1:]"
   ]
  },
  {
   "cell_type": "code",
   "execution_count": 22,
   "id": "a35539d6-8e31-419e-8440-05ad2cf45ee0",
   "metadata": {},
   "outputs": [
    {
     "data": {
      "text/plain": [
       "'823'"
      ]
     },
     "execution_count": 22,
     "metadata": {},
     "output_type": "execute_result"
    }
   ],
   "source": [
    "modify_one(\"123\")"
   ]
  },
  {
   "cell_type": "markdown",
   "id": "de93edfb-3fc2-4a65-b723-c070370d2f5a",
   "metadata": {},
   "source": [
    "## Problema 7 \n",
    "Escribe una función que dada una cadena de dígitos, regresa una cadena igual pero con dos dígitos cualquiera modificados a otros de forma aleatoria."
   ]
  },
  {
   "cell_type": "code",
   "execution_count": 23,
   "id": "a33524a2-75fb-4823-a4d0-81d77230803d",
   "metadata": {},
   "outputs": [
    {
     "data": {
      "text/plain": [
       "'ho'"
      ]
     },
     "execution_count": 23,
     "metadata": {},
     "output_type": "execute_result"
    }
   ],
   "source": [
    "h = 'hola'\n",
    "h.replace(h[2], '').replace(h[3], '')"
   ]
  },
  {
   "cell_type": "code",
   "execution_count": 24,
   "id": "5819216b-e0d9-42ef-951e-4e90347a54f3",
   "metadata": {},
   "outputs": [],
   "source": [
    "def modify_dos(chain):\n",
    "    \n",
    "    assert chain.isdigit(), 'Cadena con solo numeros por favor'\n",
    "    \n",
    "    index1, index2 = random.randint(0,len(chain)-1), random.randint(0,len(chain)-1)\n",
    "    new1, new2 = digito_aleatorio(), digito_aleatorio()\n",
    "    chain = chain.replace(chain[index1],'').replace(chain[index2],'')\n",
    "\n",
    "    if (index1 < index2):\n",
    "        return chain[:index1]+new1+chain[index1:index2]+new2+chain[index2+1:]\n",
    "\n",
    "    else:\n",
    "        return chain[:index2]+new2+chain[index2:index1]+new1+chain[index1+1:]"
   ]
  },
  {
   "cell_type": "code",
   "execution_count": 25,
   "id": "82965ce5-d70f-44a2-a3e7-54edb9d94289",
   "metadata": {},
   "outputs": [
    {
     "data": {
      "text/plain": [
       "'0123556797'"
      ]
     },
     "execution_count": 25,
     "metadata": {},
     "output_type": "execute_result"
    }
   ],
   "source": [
    "modify_dos('0123456789')"
   ]
  },
  {
   "cell_type": "code",
   "execution_count": 26,
   "id": "656e4322-a0aa-4ae9-937b-ef5c7c51e6a6",
   "metadata": {},
   "outputs": [],
   "source": [
    "def modificar_dos(cadena):\n",
    "    \n",
    "    assert not len(cadena) < 2, \"No se pueden modificar dos dígitos si hay menos de 2\"\n",
    "\n",
    "    indice_1, indice_2 = random.sample(range(len(cadena)), 2)\n",
    "\n",
    "    digito_original_1 = cadena[indice_1]\n",
    "    digito_original_2 = cadena[indice_2]\n",
    "\n",
    "    posibles_digitos = \"0123456789\"\n",
    "    \n",
    "    nuevo_digito_1 = random.choice(posibles_digitos)\n",
    "    posibles_digitos.replace(nuevo_digito_1, \"\")\n",
    "    nuevo_digito_2 = random.choice(posibles_digitos)\n",
    "\n",
    "    trans = str.maketrans(digito_original_1 + digito_original_2, nuevo_digito_1 + nuevo_digito_2)\n",
    "\n",
    "    nueva_cadena = cadena.translate(trans)\n",
    "    \n",
    "    return nueva_cadena"
   ]
  },
  {
   "cell_type": "code",
   "execution_count": 27,
   "id": "f242777b-893a-4cbd-a547-95cc7d84dacf",
   "metadata": {},
   "outputs": [
    {
     "data": {
      "text/plain": [
       "'0123956789'"
      ]
     },
     "execution_count": 27,
     "metadata": {},
     "output_type": "execute_result"
    }
   ],
   "source": [
    "modificar_dos(\"0123456789\")"
   ]
  },
  {
   "cell_type": "markdown",
   "id": "f10cc0e9-c0eb-413f-a1f2-ee5299f7d32b",
   "metadata": {},
   "source": [
    "## Problema 8\n",
    "Escribe una función que dada una cadena de dígitos, regresa una cadena igual pero con tres dígitos cualquiera modificados a otros de forma aleatoria."
   ]
  },
  {
   "cell_type": "code",
   "execution_count": 28,
   "id": "3d589430-571b-441d-b73d-6e6a98e3b5df",
   "metadata": {},
   "outputs": [],
   "source": [
    "def modificar_tres(cadena):\n",
    "    \n",
    "    assert not len(cadena) < 3, \"No se pueden modificar tres dígitos si hay menos de 3\"\n",
    "\n",
    "    indice_1, indice_2, indice_3 = random.sample(range(len(cadena)), 3)\n",
    "\n",
    "    digito_original_1, digito_original_2, digito_original_3 = cadena[indice_1], cadena[indice_2], cadena[indice_3]\n",
    "\n",
    "    posibles_digitos = \"0123456789\"\n",
    "    \n",
    "    nuevo_digito_1 = random.choice(posibles_digitos)\n",
    "    posibles_digitos.replace(nuevo_digito_1, \"\")\n",
    "    nuevo_digito_2 = random.choice(posibles_digitos)\n",
    "    posibles_digitos.replace(nuevo_digito_2, \"\")\n",
    "    nuevo_digito_3 = random.choice(posibles_digitos)\n",
    "\n",
    "    trans = str.maketrans(digito_original_1 + digito_original_2 + digito_original_3, nuevo_digito_1 + nuevo_digito_2 + nuevo_digito_3)\n",
    "\n",
    "    nueva_cadena = cadena.translate(trans)\n",
    "    \n",
    "    return nueva_cadena"
   ]
  },
  {
   "cell_type": "code",
   "execution_count": 29,
   "id": "d78df14a-f0fc-46e7-9420-e2329f0ef883",
   "metadata": {},
   "outputs": [
    {
     "data": {
      "text/plain": [
       "'1620'"
      ]
     },
     "execution_count": 29,
     "metadata": {},
     "output_type": "execute_result"
    }
   ],
   "source": [
    "modificar_tres(\"1234\")"
   ]
  },
  {
   "cell_type": "markdown",
   "id": "8193fbcb-7f9d-4220-99f4-0dce811fb561",
   "metadata": {},
   "source": [
    "## Problema 9\n",
    "Escribe una función que dada una cadena de $N$ dígitos, regrese una cadena igual pero con $n$ dígitos cualquiera modificados a otros de forma aleatoria, donde $n \\leq N$."
   ]
  },
  {
   "cell_type": "code",
   "execution_count": 30,
   "id": "99edecfb-09fd-46a9-a7b7-95a12adee9b7",
   "metadata": {},
   "outputs": [],
   "source": [
    "# Primer intento\n",
    "def modificar_digitos(cadena, n):\n",
    "    \n",
    "    assert not (n <= 0 or n > len(cadena)),\"No se pueden modificar más dígitos de los que hay\"\n",
    "\n",
    "    indices_modificar = random.sample(range(len(cadena)), n)\n",
    "\n",
    "    posibles_digitos = '0123456789'\n",
    "    \n",
    "    trans = str.maketrans({cadena[i]: random.choice(posibles_digitos.replace(cadena[i], '')) for i in indices_modificar})\n",
    "\n",
    "    nueva_cadena = cadena.translate(trans)\n",
    "    return nueva_cadena"
   ]
  },
  {
   "cell_type": "code",
   "execution_count": 31,
   "id": "f08a44cd-60ce-438f-9b66-03addf46eb06",
   "metadata": {},
   "outputs": [
    {
     "data": {
      "text/plain": [
       "'246556'"
      ]
     },
     "execution_count": 31,
     "metadata": {},
     "output_type": "execute_result"
    }
   ],
   "source": [
    "modificar_digitos(\"123456\", 4)"
   ]
  },
  {
   "cell_type": "code",
   "execution_count": 32,
   "id": "d544ec96-b224-464f-9ae7-14eefd01ef1f",
   "metadata": {},
   "outputs": [],
   "source": [
    "# Segundo intento\n",
    "def modificar_digitos_recursivo(cadena, n):\n",
    "    \n",
    "    indices_modificar = random.sample(range(len(cadena)), n)\n",
    "    \n",
    "    if n <= 0 or n > len(cadena) or not indices_modificar:\n",
    "        return cadena\n",
    "\n",
    "    indice_actual = indices_modificar.pop()\n",
    "    posibles_digitos = [d for d in '0123456789' if d != cadena[indice_actual]]\n",
    "\n",
    "    nuevo_digito = random.choice(posibles_digitos)\n",
    "\n",
    "    cadena = cadena[:indice_actual] + nuevo_digito + cadena[indice_actual + 1:]\n",
    "\n",
    "    return modificar_digitos_recursivo(cadena, n - 1)"
   ]
  },
  {
   "cell_type": "code",
   "execution_count": 33,
   "id": "636ba3b9-66b5-4fba-afa5-b30fbccdf6aa",
   "metadata": {},
   "outputs": [
    {
     "data": {
      "text/plain": [
       "'127459'"
      ]
     },
     "execution_count": 33,
     "metadata": {},
     "output_type": "execute_result"
    }
   ],
   "source": [
    "modificar_digitos_recursivo(\"123456\", 3)"
   ]
  },
  {
   "cell_type": "code",
   "execution_count": 34,
   "id": "d5218e1e-deb8-4245-96af-b8850ff19125",
   "metadata": {},
   "outputs": [],
   "source": [
    "# Tercer intento\n",
    "def modificar_digitos_recursivo2(cadena, n):\n",
    "\n",
    "    assert not  (n <= 0 or n > len(cadena)), \"No se pueden modificar más dígitos de los que hay\"\n",
    "\n",
    "    indices_modificar = random.sample(range(len(cadena)), n)\n",
    "    \n",
    "    if not indices_modificar:\n",
    "        return cadena\n",
    "\n",
    "    indice_actual = indices_modificar.pop()\n",
    "    posibles_digitos = [d for d in '0123456789' if d != cadena[indice_actual]]\n",
    "\n",
    "    nuevo_digito = random.choice(posibles_digitos)\n",
    "\n",
    "    cadena = cadena[:indice_actual] + nuevo_digito + cadena[indice_actual + 1:]\n",
    "\n",
    "    return modificar_digitos_recursivo(cadena, n - 1)"
   ]
  },
  {
   "cell_type": "code",
   "execution_count": 35,
   "id": "4a3c3b08-19e3-41cb-9558-a5dcef8d6ff1",
   "metadata": {},
   "outputs": [
    {
     "data": {
      "text/plain": [
       "'613456'"
      ]
     },
     "execution_count": 35,
     "metadata": {},
     "output_type": "execute_result"
    }
   ],
   "source": [
    "modificar_digitos_recursivo2(\"123456\", 2)"
   ]
  },
  {
   "cell_type": "code",
   "execution_count": null,
   "id": "c68da2a0-1de8-48ee-b166-45a0004cbf01",
   "metadata": {},
   "outputs": [],
   "source": []
  }
 ],
 "metadata": {
  "kernelspec": {
   "display_name": "Python 3 (ipykernel)",
   "language": "python",
   "name": "python3"
  },
  "language_info": {
   "codemirror_mode": {
    "name": "ipython",
    "version": 3
   },
   "file_extension": ".py",
   "mimetype": "text/x-python",
   "name": "python",
   "nbconvert_exporter": "python",
   "pygments_lexer": "ipython3",
   "version": "3.10.5"
  }
 },
 "nbformat": 4,
 "nbformat_minor": 5
}
