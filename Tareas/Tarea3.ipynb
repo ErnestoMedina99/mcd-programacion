{
 "cells": [
  {
   "cell_type": "markdown",
   "id": "2f8e6d4f-c31f-4e10-a872-0ea0ab82a271",
   "metadata": {},
   "source": [
    "# Problema\n",
    "\n",
    "Escribe un programa con quién jugar [al gato](https://es.wikipedia.org/wiki/Tres_en_l%C3%ADnea).\n",
    "Puedes representar el estado del juego con una lista con valores que codifican las marcas: 0 para casillas vacías, 1 para las cruces, 2 para los círculos.\n",
    "Puedes recibir la jugada desde el teclado usando `input`."
   ]
  },
  {
   "cell_type": "markdown",
   "id": "a1d4427d-8aa4-46ff-a097-7d21bb85062c",
   "metadata": {},
   "source": [
    "La siguiente función permite imprimir a pantalla el estado del juego."
   ]
  },
  {
   "cell_type": "code",
   "execution_count": 1,
   "id": "b9ff65fe-93e3-47b5-bca1-412396678a33",
   "metadata": {},
   "outputs": [],
   "source": [
    "def cell_char(x):\n",
    "    if x == 1:\n",
    "        return \"x\"\n",
    "    if x == 2:\n",
    "        return \"o\"\n",
    "    return \" \"\n",
    "\n",
    "def print_state(s):\n",
    "    c = [cell_char(x) for x in s]\n",
    "    print(\"    A   B   C  \")\n",
    "    print(\"  ┏━━━┯━━━┯━━━┓\")\n",
    "    print(\"1 ┃ {} │ {} │ {} ┃\".format(c[0], c[1], c[2]))\n",
    "    print(\"  ┠───┼───┼───┨\")\n",
    "    print(\"2 ┃ {} │ {} │ {} ┃\".format(c[3], c[4], c[5]))\n",
    "    print(\"  ┠───┼───┼───┨\")\n",
    "    print(\"3 ┃ {} │ {} │ {} ┃\".format(c[6], c[7], c[8]))\n",
    "    print(\"  ┗━━━┷━━━┷━━━┛\")"
   ]
  },
  {
   "cell_type": "code",
   "execution_count": 2,
   "id": "dedf1e29-8718-4433-bd95-121ec701e0e0",
   "metadata": {},
   "outputs": [
    {
     "name": "stdout",
     "output_type": "stream",
     "text": [
      "    A   B   C  \n",
      "  ┏━━━┯━━━┯━━━┓\n",
      "1 ┃   │   │   ┃\n",
      "  ┠───┼───┼───┨\n",
      "2 ┃   │   │   ┃\n",
      "  ┠───┼───┼───┨\n",
      "3 ┃   │   │   ┃\n",
      "  ┗━━━┷━━━┷━━━┛\n"
     ]
    }
   ],
   "source": [
    "print_state([0, 0, 0, 0, 0, 0, 0, 0, 0])"
   ]
  },
  {
   "cell_type": "markdown",
   "id": "b9ae5b1a-881e-46de-8648-997c37756edf",
   "metadata": {},
   "source": [
    "El siguiente fragmento de código puede servir como plantilla para el juego"
   ]
  },
  {
   "cell_type": "code",
   "execution_count": 3,
   "id": "b980c3e3-2cc0-4322-95f0-728223ddf8b1",
   "metadata": {},
   "outputs": [],
   "source": [
    "def tic_tac_toe():\n",
    "    s = init_state()\n",
    "    print(\"EL GATO™\")\n",
    "    player = 1\n",
    "    while not is_final_state(s):\n",
    "        print_state(s)\n",
    "        m = ask_action(s) if player == 1 else choose_action(s)\n",
    "        s = next_state(s, m, player)\n",
    "        player = next_player(player)\n",
    "    report_winner(s)"
   ]
  },
  {
   "cell_type": "code",
   "execution_count": 4,
   "id": "6e139025-afcf-4394-af82-11aa7d21dea9",
   "metadata": {},
   "outputs": [
    {
     "ename": "NameError",
     "evalue": "name 's' is not defined",
     "output_type": "error",
     "traceback": [
      "\u001b[1;31m---------------------------------------------------------------------------\u001b[0m",
      "\u001b[1;31mNameError\u001b[0m                                 Traceback (most recent call last)",
      "Cell \u001b[1;32mIn[4], line 1\u001b[0m\n\u001b[1;32m----> 1\u001b[0m win \u001b[38;5;241m=\u001b[39m [[\u001b[43ms\u001b[49m,s,s,\u001b[38;5;241m0\u001b[39m,\u001b[38;5;241m0\u001b[39m,\u001b[38;5;241m0\u001b[39m,\u001b[38;5;241m0\u001b[39m,\u001b[38;5;241m0\u001b[39m,\u001b[38;5;241m0\u001b[39m], [\u001b[38;5;241m0\u001b[39m,\u001b[38;5;241m0\u001b[39m,\u001b[38;5;241m0\u001b[39m,s,s,s,\u001b[38;5;241m0\u001b[39m,\u001b[38;5;241m0\u001b[39m,\u001b[38;5;241m0\u001b[39m], [\u001b[38;5;241m0\u001b[39m,\u001b[38;5;241m0\u001b[39m,\u001b[38;5;241m0\u001b[39m,\u001b[38;5;241m0\u001b[39m,\u001b[38;5;241m0\u001b[39m,\u001b[38;5;241m0\u001b[39m,s,s,s],\n\u001b[0;32m      2\u001b[0m [s,\u001b[38;5;241m0\u001b[39m,\u001b[38;5;241m0\u001b[39m,s,\u001b[38;5;241m0\u001b[39m,\u001b[38;5;241m0\u001b[39m,s,\u001b[38;5;241m0\u001b[39m,\u001b[38;5;241m0\u001b[39m], [\u001b[38;5;241m0\u001b[39m,s,\u001b[38;5;241m0\u001b[39m,\u001b[38;5;241m0\u001b[39m,s,\u001b[38;5;241m0\u001b[39m,\u001b[38;5;241m0\u001b[39m,s,\u001b[38;5;241m0\u001b[39m], [\u001b[38;5;241m0\u001b[39m,\u001b[38;5;241m0\u001b[39m,s,\u001b[38;5;241m0\u001b[39m,\u001b[38;5;241m0\u001b[39m,s,\u001b[38;5;241m0\u001b[39m,\u001b[38;5;241m0\u001b[39m,s],\n\u001b[0;32m      3\u001b[0m [s,\u001b[38;5;241m0\u001b[39m,\u001b[38;5;241m0\u001b[39m,\u001b[38;5;241m0\u001b[39m,s,\u001b[38;5;241m0\u001b[39m,\u001b[38;5;241m0\u001b[39m,\u001b[38;5;241m0\u001b[39m,s], [\u001b[38;5;241m0\u001b[39m,\u001b[38;5;241m0\u001b[39m,s,\u001b[38;5;241m0\u001b[39m,s,\u001b[38;5;241m0\u001b[39m,s,\u001b[38;5;241m0\u001b[39m,\u001b[38;5;241m0\u001b[39m]]\n\u001b[0;32m      5\u001b[0m \u001b[38;5;28;01mwhile\u001b[39;00m s \u001b[38;5;129;01min\u001b[39;00m win \u001b[38;5;241m!=\u001b[39m (\u001b[38;5;241m1\u001b[39m \u001b[38;5;129;01mor\u001b[39;00m \u001b[38;5;241m2\u001b[39m):\n\u001b[0;32m      7\u001b[0m     x \u001b[38;5;241m=\u001b[39m \u001b[38;5;28mstr\u001b[39m(\u001b[38;5;28minput\u001b[39m(\u001b[38;5;124m'\u001b[39m\u001b[38;5;124mEscribe la posición:\u001b[39m\u001b[38;5;124m'\u001b[39m))\n",
      "\u001b[1;31mNameError\u001b[0m: name 's' is not defined"
     ]
    }
   ],
   "source": [
    "win = [[s,s,s,0,0,0,0,0,0], [0,0,0,s,s,s,0,0,0], [0,0,0,0,0,0,s,s,s],\n",
    "[s,0,0,s,0,0,s,0,0], [0,s,0,0,s,0,0,s,0], [0,0,s,0,0,s,0,0,s],\n",
    "[s,0,0,0,s,0,0,0,s], [0,0,s,0,s,0,s,0,0]]\n",
    "\n",
    "while s in win != (1 or 2):\n",
    "    \n",
    "    x = str(input('Escribe la posición:'))\n",
    "    x = x.lower()\n",
    "    \n",
    "    if x == '1a':\n",
    "        print_state([1, 0, 0, 0, 0, 0, 0, 0, 0])\n",
    "\n",
    "    elif x == '2a':\n",
    "        print_state([0, 1, 0, 0, 0, 0, 0, 0, 0])\n",
    "\n",
    "    elif x == '3a':\n",
    "        print_state([0, 1, 0, 0, 0, 0, 0, 0, 0])\n",
    "\n",
    "    elif x == '1b':\n",
    "        print_state([0, 1, 0, 0, 0, 0, 0, 0, 0])\n",
    "\n",
    "    elif x == '2b':\n",
    "        print_state([0, 1, 0, 0, 0, 0, 0, 0, 0])\n",
    "\n",
    "    elif x == '3b':\n",
    "        print_state([0, 1, 0, 0, 0, 0, 0, 0, 0])\n",
    "\n",
    "    elif x == '1c':\n",
    "        print_state([0, 1, 0, 0, 0, 0, 0, 0, 0])\n",
    "\n",
    "    elif x == '2c':\n",
    "        print_state([0, 1, 0, 0, 0, 0, 0, 0, 0])\n",
    "\n",
    "    elif x == '3c':\n",
    "        print_state([0, 1, 0, 0, 0, 0, 0, 0, 0])"
   ]
  },
  {
   "cell_type": "code",
   "execution_count": null,
   "id": "d48dd1f8-d501-42a3-88c1-b449ddac218d",
   "metadata": {},
   "outputs": [],
   "source": []
  }
 ],
 "metadata": {
  "kernelspec": {
   "display_name": "Python 3 (ipykernel)",
   "language": "python",
   "name": "python3"
  },
  "language_info": {
   "codemirror_mode": {
    "name": "ipython",
    "version": 3
   },
   "file_extension": ".py",
   "mimetype": "text/x-python",
   "name": "python",
   "nbconvert_exporter": "python",
   "pygments_lexer": "ipython3",
   "version": "3.10.5"
  }
 },
 "nbformat": 4,
 "nbformat_minor": 5
}
