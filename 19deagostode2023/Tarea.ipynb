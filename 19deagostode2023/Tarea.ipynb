{
 "cells": [
  {
   "cell_type": "markdown",
   "id": "abb94f40-8d8c-4ccd-8ace-39e410a65e3f",
   "metadata": {},
   "source": [
    "# Ejercicios \n",
    "\n",
    "1. Escribe una breve descripción del propósito de las bibliotecas de Python: numpy, pandas, matplotlib, seaborn, scipy y requests.\n",
    "\n",
    "* NumPy: NumPy es esencial para cálculos científicos en Python, ofreciendo eficiente manipulación de arreglos multidimensionales y funciones matemáticas para datos numéricos.\n",
    "\n",
    "*\n",
    "Pandas: Pandas simplifica el análisis de datos al proporcionar estructuras como DataFrames y Series, ideales para cargar, limpiar y transformar información antes de análisis más profun\n",
    "* Matplotlib: Matplotlib, una biblioteca gráfica, posibilita crear diversos gráficos 2D, útiles para visualizar datos con precisió\n",
    "*4. Seaborn: Seaborn, basado en Matplotlib, facilita la creación de visualizaciones estadísticas llamativas y efectivas, simplificando la representación de datos complejo\n",
    "*  SciPy: Ampliando NumPy, SciPy agrega herramientas avanzadas para optimización, procesamiento de señales y más, adecuadas para tareas matemáticas y científicas sofisticad.\n",
    "*  Requests: La biblioteca Requests simplifica solicitudes HTTP en Python, permitiendo interacción con servidores web y consumo de recursos en línea, como APIs.\n",
    "\n",
    "Estas bibliotecas son esenciales en ámbitos como la ciencia de datos y el desarrollo web, brindando herramientas poderosas para diversas aion\n",
    "\n",
    "2. Busca en internet un proyecto de Git desarrollado en Python que te resulte interesante, clónalo junto al (pero no dentro del) repositorio de la clase. Responde brevemente ¿Por qué elegiste este repositorio particular?\n",
    "Porque me interesa mucho la modelación de fenómenos reales y cómo podemos aproximarlos y predecirlos utilizando distintas ecuaciones, métodos y modelos.es.\n",
    "\n",
    "\n",
    "\n",
    "\n",
    "\n"
   ]
  },
  {
   "cell_type": "code",
   "execution_count": 3,
   "id": "9a133ae7",
   "metadata": {},
   "outputs": [
    {
     "ename": "ModuleNotFoundError",
     "evalue": "No module named 'modsquared'",
     "output_type": "error",
     "traceback": [
      "\u001b[1;31m---------------------------------------------------------------------------\u001b[0m",
      "\u001b[1;31mModuleNotFoundError\u001b[0m                       Traceback (most recent call last)",
      "Cell \u001b[1;32mIn[3], line 1\u001b[0m\n\u001b[1;32m----> 1\u001b[0m \u001b[38;5;28;01mimport\u001b[39;00m \u001b[38;5;21;01mmodsquared\u001b[39;00m\n",
      "\u001b[1;31mModuleNotFoundError\u001b[0m: No module named 'modsquared'"
     ]
    }
   ],
   "source": [
    "import modsquared"
   ]
  },
  {
   "cell_type": "code",
   "execution_count": null,
   "id": "64a23f93-d48b-4cb7-865c-1cdeb84909ba",
   "metadata": {},
   "outputs": [],
   "source": []
  }
 ],
 "metadata": {
  "kernelspec": {
   "display_name": "Python 3 (ipykernel)",
   "language": "python",
   "name": "python3"
  },
  "language_info": {
   "codemirror_mode": {
    "name": "ipython",
    "version": 3
   },
   "file_extension": ".py",
   "mimetype": "text/x-python",
   "name": "python",
   "nbconvert_exporter": "python",
   "pygments_lexer": "ipython3",
   "version": "3.10.5"
  }
 },
 "nbformat": 4,
 "nbformat_minor": 5
}
