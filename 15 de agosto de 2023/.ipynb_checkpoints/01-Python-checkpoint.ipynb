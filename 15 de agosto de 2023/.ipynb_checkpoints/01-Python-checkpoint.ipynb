{
 "cells": [
  {
   "cell_type": "markdown",
   "id": "627487a6-4834-4926-928e-ee191a9ec4a9",
   "metadata": {},
   "source": [
    "# Primitivas\n",
    "\n",
    "Los programas de computadora manipulan datos. Una pieza individual de un dato es llamado *valor* y cada valor tiene un *tipo* que identifica que \"clase de cosa\" es el valor."
   ]
  },
  {
   "cell_type": "markdown",
   "id": "07602f31-33ea-4a6d-ad65-e185594dd8d3",
   "metadata": {},
   "source": [
    "## Valores simples\n",
    "\n",
    "Hay cuatro tipos de valores que son parte fundamental de Python: lógicos (`bool`), enteros (`int`), flotantes (`float`) y cadenas (`str`).\n",
    "\n",
    "También existe un valor que representa \"nada\" llamado `None`.\n",
    "\n",
    "Cuando escribimos un valor en el intérprete de Python, lo imprime en la siguiente línea. Cuando el valor es `None`, no se imprime nada porque precisamente eso representa `None`.\n",
    "\n",
    "Si escribimos algo que Python encuentra inaceptable de alguna manera, se muestra un mensaje de varias líneas que describe el problema."
   ]
  },
  {
   "cell_type": "code",
   "execution_count": null,
   "id": "98b89ec7-ba17-487d-b918-3c59a6b0cb11",
   "metadata": {},
   "outputs": [],
   "source": [
    "42"
   ]
  },
  {
   "cell_type": "code",
   "execution_count": null,
   "id": "1b6d3645-551d-438b-950f-ee04d29f7ac7",
   "metadata": {},
   "outputs": [],
   "source": [
    "None"
   ]
  },
  {
   "cell_type": "markdown",
   "id": "e0984363-f51c-42b8-89c1-e0428911033a",
   "metadata": {},
   "source": [
    "### Booleanos\n",
    "\n",
    "Su tipo es `bool`.\n",
    "\n",
    "`True` y `False` son Booleanos"
   ]
  },
  {
   "cell_type": "code",
   "execution_count": null,
   "id": "6d0bc955-6b83-4295-b944-3ffcd3714de8",
   "metadata": {},
   "outputs": [],
   "source": [
    "True"
   ]
  },
  {
   "cell_type": "code",
   "execution_count": null,
   "id": "6cdce004-0ab0-44c6-b08c-960cc04a5e1e",
   "metadata": {},
   "outputs": [],
   "source": [
    "False"
   ]
  },
  {
   "cell_type": "markdown",
   "id": "413b82af-8620-42d0-9a8b-49ae99484bec",
   "metadata": {},
   "source": [
    "### Enteros\n",
    "\n",
    "Su tipo es `int`.\n",
    "\n",
    "`42`, `-90` y `602200000000000000000000` son enteros.\n",
    "\n",
    "Pueden ser escritos en otras bases\n",
    "\n",
    "**base 2** (*binario*)\n",
    "`0b1001010010100101`\n",
    "\n",
    "**base 8** (*octal*)\n",
    "`0o5124751012`\n",
    "\n",
    "**base 16** (*hexadecimal*)\n",
    "`0xD3FEFF`"
   ]
  },
  {
   "cell_type": "code",
   "execution_count": null,
   "id": "e9a2f964-a6bf-411f-a329-0f238781de47",
   "metadata": {},
   "outputs": [],
   "source": [
    "0b1001010010100101"
   ]
  },
  {
   "cell_type": "code",
   "execution_count": null,
   "id": "0b6e76fb-b8d6-4293-a7d6-735f2421ea8a",
   "metadata": {},
   "outputs": [],
   "source": [
    "0o5124751012"
   ]
  },
  {
   "cell_type": "code",
   "execution_count": null,
   "id": "e8812c90-058b-43a7-a26a-54d1f70aa926",
   "metadata": {},
   "outputs": [],
   "source": [
    "0xD3FEFF"
   ]
  },
  {
   "cell_type": "markdown",
   "id": "05448257-e633-4271-913d-7a61c2ae8289",
   "metadata": {},
   "source": [
    "### Flotantes\n",
    "\n",
    "Su tipo es `float`.\n",
    "\n",
    "`2.5`, `-0.1` y `0.0` son flotantes.\n",
    "\n",
    "Pueden ser escritos en notación científica:\n",
    "`1.8e+5`, `-1.4e-2`\n",
    "\n",
    "Python nos puede responder en notación científica si lo considera pertinente:\n",
    "`0.00001`, `100200300400500060.0`"
   ]
  },
  {
   "cell_type": "code",
   "execution_count": null,
   "id": "6a804247-f801-4094-8807-8f417e6feb8c",
   "metadata": {},
   "outputs": [],
   "source": [
    "0.00001"
   ]
  },
  {
   "cell_type": "code",
   "execution_count": null,
   "id": "1d720494-17b0-42ed-accb-6b6a55b9cf4a",
   "metadata": {},
   "outputs": [],
   "source": [
    "100200300400500060.0"
   ]
  },
  {
   "cell_type": "code",
   "execution_count": null,
   "id": "008350f8-5354-4754-8690-def55fa344d0",
   "metadata": {},
   "outputs": [],
   "source": [
    "3.14159265358979323846264338327950288419716939937510582097494459230781640628620899862803482534211706798214808651328230664709384460955058223172535940812848111745028410270193852110555964462294895493038196442881097566593344612847564823378678316527120190914564856692346034861045432664821339360726024914127372458700660631558817488152092096282925409171536436789259036001133053054882046652138414695194151160943305727036575959195309218611738193261179310511854807446237996274956735188575272489122793818301194912983367336244065664308602139494639522473719070217986094370277053921717629317675238467481846766940513200056812714526356082778577134275778960917363717872146844090122495343014654958537105079227968925892354201995611212902196086403441815981362977477130996051870721134999999837297804995105973173281609631859502445945534690830264252230825334468503526193118817101000313783875288658753320838142061717766914730359825349042875546873115956286388235378759375195778185778053217122680661300192787661119590921642019893809525720106548586327886593615338182796823030195203530185296899577362259941389124972177528347913151557485724245415069595082953311686172785588907509838175463746493931925506040092770167113900984882401285836160356370766010471018194295559619894676783744944825537977472684710404753464620804668425906949129331367702898915210475216205696602405803815019351125338243003558764024749647326391419927260426992279678235478163600934172164121992458631503028618297455570674983850549"
   ]
  },
  {
   "cell_type": "markdown",
   "id": "5d32b7c9-de8b-43a6-9981-49d401b6f5f8",
   "metadata": {},
   "source": [
    "### Cadenas\n",
    "\n",
    "Su tipo es `str`.\n",
    "\n",
    "`'abc'` y `'Hola mundo'` son cadenas.\n",
    "\n",
    "Un carácter se representa como una cadena con un solo elemento: `'x'`.\n",
    "\n",
    "Algunas secuencias de caracteres son interpretadas de forma especial (secuencias de escape):\n",
    "- `\\n` es salto de línea\n",
    "- `\\t` es una tabulación\n",
    "- `\\'` es una comilla sencilla\n",
    "\n",
    "Esta última secuencia de escape permite representar la comilla como un elemento de la cadena y no como delimitador para indicar inicio/fin de la cadena:\n",
    "`'¡Hola \\'amigos\\'!`\n",
    "\n",
    "También se pueden utilizar dobles comillas para delimitar cadenas.\n",
    "\n",
    "También se pueden utilizar tres comillas para delimitar cadenas que contienen varias líneas."
   ]
  },
  {
   "cell_type": "code",
   "execution_count": null,
   "id": "21108064-c7fe-4896-a763-2dd9f1c5b2b3",
   "metadata": {},
   "outputs": [],
   "source": [
    "'Mi nombre se escribe \\'Eduardo\\''"
   ]
  },
  {
   "cell_type": "code",
   "execution_count": null,
   "id": "19b5a9e9-32c6-4ba7-a323-43cdbe1844b3",
   "metadata": {},
   "outputs": [],
   "source": [
    "\"Mi nombre se escribe 'Eduardo'\""
   ]
  },
  {
   "cell_type": "code",
   "execution_count": null,
   "id": "dcad0191-8835-4bc9-b3f1-dfac0b3b96fb",
   "metadata": {},
   "outputs": [],
   "source": [
    "\"Mi nombre se escribe \\\"Eduardo\\\"\""
   ]
  },
  {
   "cell_type": "code",
   "execution_count": null,
   "id": "18067216-607e-4dc5-a5ce-550857dbc14d",
   "metadata": {},
   "outputs": [],
   "source": [
    "'Esta es una linea\\nEsta es otra'"
   ]
  },
  {
   "cell_type": "code",
   "execution_count": null,
   "id": "a2ade9b7-1ac4-4d45-8e07-2d5d0fa726a7",
   "metadata": {},
   "outputs": [],
   "source": [
    "\"\"\"Esta es una linea\n",
    "Esta es otra\"\"\""
   ]
  },
  {
   "cell_type": "markdown",
   "id": "634ec1d0-f6df-495b-bb67-75fca5b78b8a",
   "metadata": {},
   "source": [
    "## Expresiones\n",
    "\n",
    "Un *operador* es un símbolo que indica un cálculo y utiliza uno o más *operandos*. La combinación del operador con sus operandos es una *expresión*.\n",
    "\n",
    "Un operador *unario* es aquel que aparece antes de un solo operando. Un operador *binario* es aquel que aparece entre dos operandos."
   ]
  },
  {
   "cell_type": "markdown",
   "id": "6893ad19-5d5b-4d90-9ffa-61a65d302f6a",
   "metadata": {},
   "source": [
    "### Operaciones numéricas\n",
    "\n",
    "- `+ x`\n",
    "- `- x` (*negación*)\n",
    "- `x + y` (*suma*)\n",
    "- `x - y` (*resta*)\n",
    "- `x * y` (*multiplicación*)\n",
    "- `x ** y` (*exponenciación*)\n",
    "- `x / y` (*división*)\n",
    "- `x // y` (*división entera*)\n",
    "- `x % y` (*módulo*)"
   ]
  },
  {
   "cell_type": "code",
   "execution_count": null,
   "id": "549d76df-ceef-4696-bbd7-0002b92cb89e",
   "metadata": {},
   "outputs": [],
   "source": [
    "1 / 3"
   ]
  },
  {
   "cell_type": "markdown",
   "id": "94ae0368-5aa5-410b-8648-f45d868735b7",
   "metadata": {},
   "source": [
    "Cuando algún operando es flotante, el resultado de la expresión será flotante."
   ]
  },
  {
   "cell_type": "code",
   "execution_count": null,
   "id": "37252b57-4d60-4fd3-a2e8-2f4b6a027455",
   "metadata": {},
   "outputs": [],
   "source": [
    ".03 - 0.029"
   ]
  },
  {
   "cell_type": "code",
   "execution_count": null,
   "id": "7a339a62-53f6-43b1-9061-83de9438fa9a",
   "metadata": {},
   "outputs": [],
   "source": [
    ".01 - .009"
   ]
  },
  {
   "cell_type": "markdown",
   "id": "6672a0b0-9f8c-4e82-8cba-8b86c5ea215c",
   "metadata": {},
   "source": [
    "### Operaciones lógicas\n",
    "\n",
    "**Toman booleanos y regresan booleanos:**\n",
    "- `not x` (*negación*)\n",
    "- `x and y` (*conjunción*)\n",
    "- `x or y` (*disyunción*)\n",
    "\n",
    "**Toma booleano y regresa cualquier cosa:**\n",
    "- `x if y else z` (*condicional*)\n",
    "\n",
    "**Toman cualquier cosa y regresan booleanos:**\n",
    "- `x == y` (*igual qué*)\n",
    "- `x != y` (*no igual qué*)\n",
    "- `x < y` (*menor qué*)\n",
    "- `x <= y` (*a lo más*)\n",
    "- `x > y` (*mayor qué*)\n",
    "- `x >= y` (*al menos*)"
   ]
  },
  {
   "cell_type": "markdown",
   "id": "62fd5889-8a66-4fcb-8732-aa7126bcb48c",
   "metadata": {},
   "source": [
    "### Operaciones con cadenas\n",
    "\n",
    "- `x in y` (*es subcadena de*)\n",
    "- `x not in y` (*no es subcadena de*)\n",
    "- `x + y` (*concatenación*)\n",
    "- `x * y` (*repetición*)\n",
    "- `x[y]` (*extraer carácter*)\n",
    "- `x[y:z:w]` (*extraer caracteres*)"
   ]
  },
  {
   "cell_type": "markdown",
   "id": "2d8f3f1e-c8a8-4994-9785-c6e93ff98e50",
   "metadata": {},
   "source": [
    "### Invocaciones\n",
    "\n",
    "Una *invocación* es un tipo de expresión."
   ]
  },
  {
   "cell_type": "markdown",
   "id": "b351ebf6-dbdb-46dd-85eb-08c289e14470",
   "metadata": {},
   "source": [
    "#### A función\n",
    "\n",
    "Consiste en un *nombre de función* y cero o más *argumentos* separados por comas y delimitados por paréntesos.\n",
    "\n",
    "- `len(string)`\n",
    "- `print(args...[, sep=x][, end=y])`\n",
    "- `input(string)`\n",
    "- `abs(val)`\n",
    "- `max(args...)`\n",
    "- `min(args...)`\n",
    "\n",
    "Los tipos pueden ser llamados como funciones, toman un argumento y regresan un valor del tipo llamado.\n",
    "- `str(arg)`\n",
    "- `int(arg)`\n",
    "- `float(arg)`\n",
    "- `bool(arg)`\n",
    "\n",
    "Puedes obtener ayuda interactiva de Python llamando `help()`, o imprimir información sobre algún `x` con la llamada `help(x)`.\n",
    "\n",
    "¿Cómo podemos saber si un valor es de un tipo particular?\n",
    "```python\n",
    "isinstance(x, type)\n",
    "```"
   ]
  },
  {
   "cell_type": "markdown",
   "id": "d8f01def-9275-43ef-be8b-944be3523f83",
   "metadata": {},
   "source": [
    "#### A método\n",
    "\n",
    "La mayoría de las funciones de Python son parte de la implementación de un tipo específico. Estas funciones son llamadas *métodos*.\n",
    "\n",
    "Se llaman igual que las funciones, excepto que el primer argumento va antes que el nombre del método, seguido de un punto.\n",
    "\n",
    "- `string1.count(string2[, start[, end]])`\n",
    "- `string1.find(string2[, start[, end]])`\n",
    "- `string1.startswith(string2[, start[, end]])`\n",
    "- `string1.strip([string2])`\n",
    "- `string1.lstrip([string2])`\n",
    "- `string1.rstrip([string2])`\n",
    "\n",
    "Se puede obtener ayuda de un método `met` del tipo `tipo` con: `help(tipo.met)`."
   ]
  },
  {
   "cell_type": "markdown",
   "id": "8f0a2531-8d5e-4c23-96d0-f71d7ded0ae9",
   "metadata": {},
   "source": [
    "### Expresiones compuestas\n",
    "\n",
    "Los operadores pueden ser compuestos en serie para obtener expresiones más complejas:\n",
    "```python\n",
    "2 * 3 + 4 - 1\n",
    "```\n",
    "\n",
    "Python sigue reglas convencionales para determinar la precedencia de los operadores, puedes introducir paréntesis al rededor de expresiones para agruparlas y controlar la interpretación de la expresión."
   ]
  },
  {
   "cell_type": "markdown",
   "id": "b5c716b4-7b68-41bb-af1b-ac64a56e8c8d",
   "metadata": {},
   "source": [
    "# Nombres, funciones y módulos\n",
    "\n",
    "Un *nombre* de Python consiste de una cantidad arbitraria de letras, dígitos y el símbolo `_`. La única restricción es que el primer carácter no sea dígito.\n",
    "\n",
    "Un nombre es usado para referirnos a algo: un valor primitivo, una función, etc.\n",
    "\n",
    "La asociación entre un nombre y un valor es llamada *vinculación*, un valor puede estar vinculado a varios nombres.\n",
    "\n",
    "El mismo nombre puede significar cosas distintas en contextos distintos. A los contextos se les llama *espacios de nombres*.\n",
    "\n",
    "Los tipos y funciones que hemos visto son parte del espacio de nombres *global*. Adicionalmente, un espacio de nombres es asociado con cada tipo, esto permite que cada tipo tenga su propia versión de nombres usuales como `count` o `find`.\n",
    "\n",
    "En Python, el término *clase* es sinónimo de \"tipo\" y *objeto* es sinónimo de \"valor\". El símbolo de `.` en `str.count` le dice a Python que busque el método llamado `count` en la clase `str`."
   ]
  },
  {
   "cell_type": "markdown",
   "id": "2d66e585-bb72-46e8-a56d-c5fd7ce91101",
   "metadata": {},
   "source": [
    "Un programa de Python consiste de una secuencia de *instrucciones*. Estas no producen un valor y no pueden ser usadas como expresiones."
   ]
  },
  {
   "cell_type": "markdown",
   "id": "8d3d92aa-48bc-48b2-b04e-ae51bd63d37f",
   "metadata": {},
   "source": [
    "## Asignación de nombres\n",
    "\n",
    "Una *instrucción de asignación* vincula un nombre a un objeto. Se denota con un símbolo `=`.\n",
    "\n",
    "```python\n",
    "name = value\n",
    "```"
   ]
  },
  {
   "cell_type": "markdown",
   "id": "6bde49b7-9569-4d7b-afde-c83a87e7ee68",
   "metadata": {},
   "source": [
    "## Definición de funciones\n",
    "\n",
    "Nuevas funciones son definidas con *instrucciones de definición de función*. Una definición es una *instrucción compuesta*, es decir, se compone de más de una línea de código.\n",
    "\n",
    "La primera línea de cada instrucción compuesta termina con un símbolo `:`. La práctica estándar es indentar con cuatro espacios las líneas siguientes.\n",
    "\n",
    "```python\n",
    "def name(params...):\n",
    "    body\n",
    "```\n",
    "\n",
    "Para indicar el resultado de una función se utiliza la instrucción `return`.\n",
    "\n",
    "Si todavía no decides que programar en una instrucción compuesta, puedes utilizar la instrucción `pass`."
   ]
  },
  {
   "cell_type": "markdown",
   "id": "af630c8c-d146-45cf-825e-15172e3c551f",
   "metadata": {},
   "source": [
    "## Documentación\n",
    "\n",
    "El símbolo `#` le indica a Python que ignore el resto de la línea, estas líneas son llamadas *comentarios*.\n",
    "\n",
    "Python permite la documentación de funciones con *docstrings*, las cuales son simplemente una cadena que comienza la definición de función."
   ]
  },
  {
   "cell_type": "markdown",
   "id": "4eb07f1f-c185-4b29-bef8-11a89740fe78",
   "metadata": {},
   "source": [
    "## Valores de parámetros por defecto\n",
    "\n",
    "En algunos casos, la mayoría de las llamadas a tus funciones van a tener el mismo valor para un parámetro particular. Usualmente estos son para valores simples como `True`, `0`, `None`.\n",
    "\n",
    "Para estos casos, Python provee un mecanismo para asignar un *valor por defecto* al parámetro que será usado si la llamada a función no incluye el valor de forma explícita.\n",
    "\n",
    "```python\n",
    "def nombre(param, ..., opcional=valor, ...):\n",
    "    cuerpo\n",
    "```"
   ]
  },
  {
   "cell_type": "markdown",
   "id": "b89b27f0-bc7d-42ab-acca-532039b22f03",
   "metadata": {},
   "source": [
    "## Aserciones\n",
    "\n",
    "Al programar, suele suceder que tus funciones son llamadas con argumentos del tipo incorrecto o con valores incorrectos.\n",
    "\n",
    "Puedes incorporar las suposiciones que realizan tus funciones en docstrings, sin embargo, esto no va a afectar el cómputo, ni evitar que las instrucciones se intenten ejecutar.\n",
    "\n",
    "Python provee una instrucción de *afirmación*, que suele ser utilizada para afirmar que una expresión es verdadera, de lo contrario se muestra un error.\n",
    "\n",
    "```python\n",
    "assert expression\n",
    "```\n",
    "\n",
    "También puedes usar dos expresiones, una para evaluarse a un valor de verdad y otra para describir el problema:\n",
    "\n",
    "```python\n",
    "assert expression1, expression2\n",
    "```"
   ]
  },
  {
   "cell_type": "markdown",
   "id": "36d87b27-7217-4efa-9c83-3822e6a54bc1",
   "metadata": {},
   "source": [
    "# Usando módulos\n",
    "\n",
    "Además de los tipos, funciones y métodos incluídos en el intérprete de Python, la distribución oficial contiene una amplia biblioteca de *módulos* que podemos utilizar.\n",
    "\n",
    "Un módulo es un archivo que contiene definiciones (principalmente).\n",
    "\n",
    "Una docstring al inicio del archivo (si está presente) describe su propósito.\n",
    "\n",
    "El contenido de un módulo se puede incorporar al entorno del intérprete por medio de una *instrucción de importación*.\n",
    "\n",
    "```python\n",
    "import modulo\n",
    "```\n",
    "\n",
    "El nombre `modulo` es algun módulo disponible en el ambiente de trabajo o simplemente el nombre del archivo, sin su ruta ni extensión."
   ]
  },
  {
   "cell_type": "code",
   "execution_count": 1,
   "id": "f63c54fc-4bbe-4372-8ea6-322cebc51f93",
   "metadata": {},
   "outputs": [],
   "source": [
    "import modsquared"
   ]
  },
  {
   "cell_type": "code",
   "execution_count": 2,
   "id": "016bc933-1e07-4ad9-bfb5-03a216b60c83",
   "metadata": {},
   "outputs": [
    {
     "data": {
      "text/plain": [
       "8"
      ]
     },
     "execution_count": 2,
     "metadata": {},
     "output_type": "execute_result"
    }
   ],
   "source": [
    "modsquared.modulocuadrado(2, -2)"
   ]
  },
  {
   "cell_type": "code",
   "execution_count": 3,
   "id": "d06b5391-be9a-423f-9059-5d05ac58e96c",
   "metadata": {},
   "outputs": [
    {
     "data": {
      "text/plain": [
       "\u001b[1;31mType:\u001b[0m        module\n",
       "\u001b[1;31mString form:\u001b[0m <module 'modsquared' from 'C:\\\\Users\\\\medii\\\\Documents\\\\UNISON\\\\Cursos\\\\MaestriaEnCienciaDeDatos\\\\Programacion\\\\15 de agosto de 2023\\\\modsquared.py'>\n",
       "\u001b[1;31mFile:\u001b[0m        c:\\users\\medii\\documents\\unison\\cursos\\maestriaencienciadedatos\\programacion\\15 de agosto de 2023\\modsquared.py\n",
       "\u001b[1;31mDocstring:\u001b[0m   Esta función calcula el modulo al cuadrado de un vector en R2."
      ]
     },
     "metadata": {},
     "output_type": "display_data"
    }
   ],
   "source": [
    "modsquared?"
   ]
  },
  {
   "cell_type": "markdown",
   "id": "1ea7770f-c84d-48c5-9128-f819cd0b9728",
   "metadata": {},
   "source": [
    "El módulo `os` provee una interfaz con el sistema operativo de la máquina."
   ]
  },
  {
   "cell_type": "markdown",
   "id": "3a281e71-afca-4fb0-8ec3-d9e197552d32",
   "metadata": {},
   "source": [
    "Python lleva un registro de los directorios donde los módulos pueden encontrarse y qué módulos ya han sido importados.\n",
    "\n",
    "La primera vez que un módulo es importado, Python busca su archivo en la biblioteca, luego ejecuta las instrucciones que contiene y crea un objeto para representarlo. Si volvemos a importar el mismo módulo, Python se salta todos estos pasos.\n",
    "\n",
    "Cada módulo tiene su propio espacio de nombres. Un objeto de módulo es básicamente eso.\n",
    "\n",
    "El contenido de los módulos se accede utilizando la notación de punto, igual que en las llamadas a métodos.\n",
    "\n",
    "Algúnos módulos incluso tienen submódulos.\n",
    "\n",
    "```python3\n",
    "os.getcwd()\n",
    "os.getlogin()\n",
    "os.path\n",
    "```"
   ]
  },
  {
   "cell_type": "code",
   "execution_count": null,
   "id": "15af0962-6b14-4d0f-8440-368598767956",
   "metadata": {},
   "outputs": [],
   "source": [
    "import os"
   ]
  },
  {
   "cell_type": "markdown",
   "id": "7b366848-8254-4297-b4a4-433b61f9d80a",
   "metadata": {},
   "source": [
    "El espacio de nombres de cada módulo es aislado del espacio de nombres de otros módulos y del intérprete. Funciones con el mismo nombre pueden ser definidas en múltiples espacios de nombres sin interferir entre sí."
   ]
  },
  {
   "cell_type": "markdown",
   "id": "0724894c-5b99-4fe6-a0a8-75979f9b0cd0",
   "metadata": {},
   "source": [
    "Python nos permite importar nombres particulares de un módulo al espacio de nombres del intérprete (o el módulo que estemos programando).\n",
    "\n",
    "Para importar los nombres `nombre1`, `nombre2`, etc:\n",
    "```python\n",
    "from modulo import nombre1, nombre2, ...\n",
    "```\n",
    "\n",
    "Para importar y cambiar el nombre:\n",
    "```python\n",
    "from modulo import nombre_real as nombre_inventado\n",
    "```\n",
    "\n",
    "Para importar *todos* los nombres de un módulo:\n",
    "```python\n",
    "from modulo import *\n",
    "```"
   ]
  },
  {
   "cell_type": "code",
   "execution_count": null,
   "id": "f0cc7792-8116-4ae0-ba87-1b04a40faa05",
   "metadata": {},
   "outputs": [],
   "source": [
    "sys"
   ]
  },
  {
   "cell_type": "code",
   "execution_count": null,
   "id": "80b6ac21-bac0-406e-8b53-e25831e3880c",
   "metadata": {},
   "outputs": [],
   "source": [
    "version"
   ]
  },
  {
   "cell_type": "code",
   "execution_count": null,
   "id": "e18c69f3-2af1-48d1-9976-f8ab9c90610f",
   "metadata": {},
   "outputs": [],
   "source": [
    "from sys import version"
   ]
  },
  {
   "cell_type": "code",
   "execution_count": null,
   "id": "e71c6b79-533c-4aac-885a-4846361200d2",
   "metadata": {},
   "outputs": [],
   "source": [
    "sys"
   ]
  },
  {
   "cell_type": "code",
   "execution_count": null,
   "id": "5e34fb3c-5f8f-4dc3-864b-c3c5dece09e6",
   "metadata": {},
   "outputs": [],
   "source": [
    "version"
   ]
  },
  {
   "cell_type": "code",
   "execution_count": null,
   "id": "3ca66a44-342d-4188-89d2-b0ff33e33516",
   "metadata": {},
   "outputs": [],
   "source": [
    "import sys"
   ]
  },
  {
   "cell_type": "code",
   "execution_count": null,
   "id": "58c0fbac-575d-4b45-8407-b9bc6e2dea76",
   "metadata": {},
   "outputs": [],
   "source": [
    "sys"
   ]
  },
  {
   "cell_type": "code",
   "execution_count": null,
   "id": "9fca2cf9-20c3-4b4a-88ab-45421e729770",
   "metadata": {},
   "outputs": [],
   "source": [
    "version"
   ]
  },
  {
   "cell_type": "code",
   "execution_count": null,
   "id": "b8f03f4e-5902-4244-a7c4-f8591eb3a570",
   "metadata": {},
   "outputs": [],
   "source": [
    "sys.version"
   ]
  },
  {
   "cell_type": "code",
   "execution_count": null,
   "id": "75e244b6-b69c-4c98-8617-e69c80948c37",
   "metadata": {},
   "outputs": [],
   "source": [
    "from sys import la_version"
   ]
  },
  {
   "cell_type": "code",
   "execution_count": null,
   "id": "ac72a555-fac8-4fc0-9306-17805022e7bf",
   "metadata": {},
   "outputs": [],
   "source": [
    "import version"
   ]
  },
  {
   "cell_type": "code",
   "execution_count": null,
   "id": "fc7e041c-1fc0-4390-ab43-bc5737f1a958",
   "metadata": {},
   "outputs": [],
   "source": [
    "from sys import version as la_version"
   ]
  },
  {
   "cell_type": "code",
   "execution_count": null,
   "id": "c241665d-75c1-4dc5-8d20-959eda873bc4",
   "metadata": {},
   "outputs": [],
   "source": [
    "la_version"
   ]
  },
  {
   "cell_type": "markdown",
   "id": "1fa9417e-52e6-415e-9895-df1af71817b5",
   "metadata": {},
   "source": [
    "### Explorando el módulo random"
   ]
  },
  {
   "cell_type": "code",
   "execution_count": 1,
   "id": "b0ac3918-2ff9-4652-86da-b308216154c1",
   "metadata": {},
   "outputs": [],
   "source": [
    "import random"
   ]
  },
  {
   "cell_type": "code",
   "execution_count": null,
   "id": "6be78cb3-8673-4081-bcb3-ae761f9c554e",
   "metadata": {},
   "outputs": [],
   "source": [
    "random?"
   ]
  },
  {
   "cell_type": "code",
   "execution_count": null,
   "id": "460f75bc-e715-4b9b-83c2-c55049b47d40",
   "metadata": {},
   "outputs": [],
   "source": [
    "dir(random)"
   ]
  },
  {
   "cell_type": "code",
   "execution_count": null,
   "id": "b068c902-6885-40c3-8047-e31c4d37b49b",
   "metadata": {},
   "outputs": [],
   "source": [
    "random.choice?"
   ]
  },
  {
   "cell_type": "code",
   "execution_count": null,
   "id": "9896b32a-dd59-4966-bead-dded5c19b596",
   "metadata": {},
   "outputs": [],
   "source": [
    "random.choice('ABCDE')"
   ]
  },
  {
   "cell_type": "code",
   "execution_count": null,
   "id": "41868ffc-ef2c-423c-a0f1-a7786ae6b458",
   "metadata": {},
   "outputs": [],
   "source": [
    "random.randint?"
   ]
  },
  {
   "cell_type": "code",
   "execution_count": null,
   "id": "195ec666-2646-4955-b648-b04614693bb0",
   "metadata": {},
   "outputs": [],
   "source": [
    "random.randint(1, 6)"
   ]
  },
  {
   "cell_type": "code",
   "execution_count": null,
   "id": "5428f10a-4ca5-4fd2-a69a-c227c1031603",
   "metadata": {},
   "outputs": [],
   "source": [
    "random.random?"
   ]
  },
  {
   "cell_type": "code",
   "execution_count": null,
   "id": "098ad3c4-b353-4e29-8f30-5910e82e9cc9",
   "metadata": {},
   "outputs": [],
   "source": [
    "random.random()"
   ]
  },
  {
   "cell_type": "code",
   "execution_count": null,
   "id": "d0cdec13-79e5-4033-baf8-36d40f8d8c15",
   "metadata": {},
   "outputs": [],
   "source": [
    "random.uniform?"
   ]
  },
  {
   "cell_type": "code",
   "execution_count": null,
   "id": "49fbd047-cd60-4452-82a1-de50c8d2f539",
   "metadata": {},
   "outputs": [],
   "source": [
    "random.uniform(0.0, 0.1)"
   ]
  },
  {
   "cell_type": "code",
   "execution_count": null,
   "id": "63bede60-19a3-43a2-b7b5-ea6f3e8ac950",
   "metadata": {},
   "outputs": [],
   "source": [
    "random.gauss?"
   ]
  },
  {
   "cell_type": "code",
   "execution_count": null,
   "id": "e1b77e16-21b4-4c4e-b872-845e39dd4bb7",
   "metadata": {},
   "outputs": [],
   "source": [
    "random.gauss(5.0, 10.0)"
   ]
  },
  {
   "cell_type": "markdown",
   "id": "f57e498b-2a75-4d68-9bea-8f012ce92391",
   "metadata": {},
   "source": [
    "### Archivos de Python\n",
    "\n",
    "Un archivo que importes se convierte en un módulo tal y como si estuviera en la biblioteca de Python.\n",
    "\n",
    "Cada archivo de Python debe importar los módulos que usa. Si *A* usa el módulo *M*, debe importar a *M* sin importar si importa otro archivo que importa *M* o si es importado en el intérprete después de que *M* haya sido importado allí."
   ]
  },
  {
   "cell_type": "markdown",
   "id": "768e543a-1206-42b5-886e-45e87ccb79f0",
   "metadata": {},
   "source": [
    "## Problemas\n",
    "\n",
    "1. Escribe un predicado que verifica si una cadena de caracteres es un dígito.\n",
    "2. Escribe un predicado que verifica si una cadena de caracteres consiste únicamente de dígitos.\n",
    "3. Escribe una función que genere un dígito de forma aleatoria.\n",
    "4. Escribe una función que genera una cadena con $n$ dígitos aleatorios.\n",
    "5. Escribe una función que calcule la distancia de Hamming de dos cadenas de dígitos del mismo tamaño.\n",
    "6. Escribe una función que dada una cadena de dígitos, regresa una cadena igual pero con un dígito cualquiera modificado a otro de forma aleatoria.\n",
    "7. Escribe una función que dada una cadena de dígitos, regresa una cadena igual pero con dos dígitos cualquiera modificados a otros de forma aleatoria.\n",
    "8. Escribe una función que dada una cadena de dígitos, regresa una cadena igual pero con tres dígitos cualquiera modificados a otros de forma aleatoria.\n",
    "9. Escribe una función que dada una cadena de $N$ dígitos, regrese una cadena igual pero con $n$ dígitos cualquiera modificados a otros de forma aleatoria, donde $n \\leq N$."
   ]
  },
  {
   "cell_type": "markdown",
   "id": "3abbdebc-d0a0-4ead-8da9-0101b4bf67e4",
   "metadata": {},
   "source": [
    "## Problema 1 \n",
    "Escribe un predicado que verifica si una cadena de caracteres es un dígito."
   ]
  },
  {
   "cell_type": "code",
   "execution_count": 8,
   "id": "3688b3fc-3c8d-4686-914b-ea5611306d57",
   "metadata": {},
   "outputs": [],
   "source": [
    "def es_digito(x):\n",
    "    \"\"\"\n",
    "    Verifica qye x sea una cadena con un elemento que sea dígito.\n",
    "    \"\"\"\n",
    "\n",
    "    return (\n",
    "        isinstance(x, str) and\n",
    "        len(x) == 1 and\n",
    "        x in \"0123456789\"\n",
    "    )"
   ]
  },
  {
   "cell_type": "code",
   "execution_count": 9,
   "id": "d15c9120-c91c-4f1b-b509-45fca3a0d9b2",
   "metadata": {},
   "outputs": [],
   "source": [
    "assert not es_digito(0)\n",
    "assert es_digito('0')\n",
    "assert not es_digito('10')\n",
    "assert not es_digito('a')"
   ]
  },
  {
   "cell_type": "code",
   "execution_count": 10,
   "id": "c5970ae7-315d-4081-81de-89634f9ef882",
   "metadata": {},
   "outputs": [
    {
     "data": {
      "text/plain": [
       "True"
      ]
     },
     "execution_count": 10,
     "metadata": {},
     "output_type": "execute_result"
    }
   ],
   "source": [
    "es_digito(\"3\")"
   ]
  },
  {
   "cell_type": "code",
   "execution_count": 11,
   "id": "6387e337-a5d3-4f8a-9e27-bd7bec19c079",
   "metadata": {},
   "outputs": [
    {
     "data": {
      "text/plain": [
       "False"
      ]
     },
     "execution_count": 11,
     "metadata": {},
     "output_type": "execute_result"
    }
   ],
   "source": [
    "es_digito(\"a\")"
   ]
  },
  {
   "cell_type": "code",
   "execution_count": 12,
   "id": "c4658783-6161-4cbd-a54f-667ed2d8e07b",
   "metadata": {},
   "outputs": [
    {
     "data": {
      "text/plain": [
       "False"
      ]
     },
     "execution_count": 12,
     "metadata": {},
     "output_type": "execute_result"
    }
   ],
   "source": [
    "es_digito(\"321\")"
   ]
  },
  {
   "cell_type": "markdown",
   "id": "00b27cbc-2dbe-4ff8-8454-46bd7cab813c",
   "metadata": {},
   "source": [
    "## Problema 2\n",
    "Escribe un predicado que verifica si una cadena de caracteres consiste únicamente de dígitos."
   ]
  },
  {
   "cell_type": "code",
   "execution_count": 13,
   "id": "82329d00-2b4e-44de-9f6f-27e87afd9209",
   "metadata": {},
   "outputs": [],
   "source": [
    "def solo_digitos_desde(x, i):\n",
    "    return(\n",
    "        True if len(x)==i\n",
    "        else es_digito(x[i]) and solo_digitos_desde(x, i+1)\n",
    "    )\n",
    "\n",
    "def solo_digitos(x):\n",
    "    return solo_digitos_desde(x, 0)"
   ]
  },
  {
   "cell_type": "code",
   "execution_count": 14,
   "id": "0f999cc5-d731-47e5-9d26-54a2adeb487a",
   "metadata": {},
   "outputs": [],
   "source": [
    "assert solo_digitos(\"01231230123123047234\")\n",
    "assert not solo_digitos(\"123x321\")\n",
    "assert solo_digitos(\"0\")\n",
    "assert solo_digitos(\"\")"
   ]
  },
  {
   "cell_type": "code",
   "execution_count": 15,
   "id": "bf455709-a2cd-4ca0-9b0d-0d068a1ab4e3",
   "metadata": {},
   "outputs": [
    {
     "data": {
      "text/plain": [
       "True"
      ]
     },
     "execution_count": 15,
     "metadata": {},
     "output_type": "execute_result"
    }
   ],
   "source": [
    "solo_digitos(\"123\")"
   ]
  },
  {
   "cell_type": "code",
   "execution_count": 16,
   "id": "56dd9c30-c6d3-4dc2-8f85-017586ddd04d",
   "metadata": {},
   "outputs": [
    {
     "data": {
      "text/plain": [
       "False"
      ]
     },
     "execution_count": 16,
     "metadata": {},
     "output_type": "execute_result"
    }
   ],
   "source": [
    "solo_digitos(\"x13a\")"
   ]
  },
  {
   "cell_type": "code",
   "execution_count": 17,
   "id": "769f538e-c788-45c1-9413-2de0ede3d3e5",
   "metadata": {},
   "outputs": [
    {
     "data": {
      "text/plain": [
       "\u001b[1;31mSignature:\u001b[0m \u001b[0mstr\u001b[0m\u001b[1;33m.\u001b[0m\u001b[0misdigit\u001b[0m\u001b[1;33m(\u001b[0m\u001b[0mself\u001b[0m\u001b[1;33m,\u001b[0m \u001b[1;33m/\u001b[0m\u001b[1;33m)\u001b[0m\u001b[1;33m\u001b[0m\u001b[1;33m\u001b[0m\u001b[0m\n",
       "\u001b[1;31mDocstring:\u001b[0m\n",
       "Return True if the string is a digit string, False otherwise.\n",
       "\n",
       "A string is a digit string if all characters in the string are digits and there\n",
       "is at least one character in the string.\n",
       "\u001b[1;31mType:\u001b[0m      method_descriptor"
      ]
     },
     "metadata": {},
     "output_type": "display_data"
    }
   ],
   "source": [
    "str.isdigit?"
   ]
  },
  {
   "cell_type": "markdown",
   "id": "408db240-904b-4fda-a651-81099ce20986",
   "metadata": {},
   "source": [
    "## Problema 3\n",
    "Escribe una función que genere un dígito de forma aleatoria."
   ]
  },
  {
   "cell_type": "code",
   "execution_count": 18,
   "id": "4b298a15-bdc2-4b48-bdae-fc40531468d9",
   "metadata": {},
   "outputs": [],
   "source": [
    "# Se importa la librería random\n",
    "import random\n",
    "\n",
    "# Se hace elegir de manera aleatoria de entre entre todos los dígitos\n",
    "def digito_aleatorio():\n",
    "    return random.choice(\"0123456789\")"
   ]
  },
  {
   "cell_type": "code",
   "execution_count": 19,
   "id": "9cf55ed8-6cc8-4586-9fa2-b50cc2d95886",
   "metadata": {},
   "outputs": [
    {
     "data": {
      "text/plain": [
       "'5'"
      ]
     },
     "execution_count": 19,
     "metadata": {},
     "output_type": "execute_result"
    }
   ],
   "source": [
    "digito_aleatorio()"
   ]
  },
  {
   "cell_type": "markdown",
   "id": "6b627596-ae54-4334-b9d0-6fa3ac97ea03",
   "metadata": {},
   "source": [
    "## Problema 4\n",
    "Escribe una función que genera una cadena con $n$ dígitos aleatorios."
   ]
  },
  {
   "cell_type": "code",
   "execution_count": 20,
   "id": "41f43bd4-c962-445c-be0f-f07775f3527a",
   "metadata": {},
   "outputs": [],
   "source": [
    "#Escribe una función que genera una cadena con $n$ dígitos aleatorios.\n",
    "\n",
    "def random_chain(n):\n",
    "    assert not n<0,'Wey, no hay cadenas de longitudes negativas'\n",
    "    \n",
    "    digitos = random.choices('0123456789', k = n)\n",
    "    return ''.join(digitos)"
   ]
  },
  {
   "cell_type": "code",
   "execution_count": 21,
   "id": "d44ac7c1-6c56-4615-b70a-693d4ae1ca9d",
   "metadata": {},
   "outputs": [
    {
     "data": {
      "text/plain": [
       "'5544'"
      ]
     },
     "execution_count": 21,
     "metadata": {},
     "output_type": "execute_result"
    }
   ],
   "source": [
    "random_chain(4)"
   ]
  },
  {
   "cell_type": "markdown",
   "id": "f4fe6c56-1870-40f8-9ae3-a20b4b1d3c95",
   "metadata": {},
   "source": [
    "## Problema 5\n",
    "Escribe una función que calcule la distancia de Hamming de dos cadenas de dígitos del mismo tamaño.a, donde \r\n",
    "."
   ]
  },
  {
   "cell_type": "code",
   "execution_count": 22,
   "id": "cbbfdaa6-6ed2-48ac-9f92-5fa6dd0c1552",
   "metadata": {},
   "outputs": [
    {
     "data": {
      "text/plain": [
       "2"
      ]
     },
     "execution_count": 22,
     "metadata": {},
     "output_type": "execute_result"
    }
   ],
   "source": [
    "True + 1"
   ]
  },
  {
   "cell_type": "code",
   "execution_count": 23,
   "id": "d732af1f-62d4-4aab-bd44-c8b7c0f376e7",
   "metadata": {},
   "outputs": [],
   "source": [
    "def pre_hamming(chain1, chain2, i):\n",
    "    return (\n",
    "        0 if i == -1\n",
    "        else (chain1[i] != chain2[i]) + pre_hamming(chain1, chain2, i-1)\n",
    "    )\n",
    "\n",
    "def hamming(chain1, chain2):\n",
    "    assert solo_digitos(chain1) and solo_digitos(chain2) and len(chain1) == len(chain2), 'Solo cadenas de digitos del mismo tamaño'\n",
    "    return pre_hamming(chain1, chain2, len(chain1)-1)"
   ]
  },
  {
   "cell_type": "code",
   "execution_count": 24,
   "id": "5f500cd0-6027-4122-98bd-20402f44e07a",
   "metadata": {},
   "outputs": [
    {
     "data": {
      "text/plain": [
       "1"
      ]
     },
     "execution_count": 24,
     "metadata": {},
     "output_type": "execute_result"
    }
   ],
   "source": [
    "hamming(\"123\", \"023\")"
   ]
  },
  {
   "cell_type": "markdown",
   "id": "07f3187c-1737-435e-bb5b-672093a65871",
   "metadata": {},
   "source": [
    "## Problema 6\n",
    "Escribe una función que dada una cadena de dígitos, regresa una cadena igual pero con un dígito cualquiera modificado a otro de forma aleatoria. "
   ]
  },
  {
   "cell_type": "code",
   "execution_count": 30,
   "id": "4e942e5d-2011-43af-a54d-71c0abac8ddf",
   "metadata": {},
   "outputs": [],
   "source": [
    "# Escribe una función que dada una cadena de dígitos, regresa una cadena igual pero con \n",
    "# un dígito cualquiera modificado a otro de forma aleatoria.\n",
    "\n",
    "def modify_one(chain):\n",
    "    \n",
    "    assert chain.isdigit(), 'Cadena con solo numeros por favor'\n",
    "    \n",
    "    index = random.randint(0,len(chain)-1)\n",
    "    new = random.choice('0123456789'.replace(chain[index],''))\n",
    "    \n",
    "    return chain[:index]+new+chain[index+1:]"
   ]
  },
  {
   "cell_type": "code",
   "execution_count": 31,
   "id": "ea97c748-bd7e-43f3-8ae0-e041005d67c9",
   "metadata": {},
   "outputs": [
    {
     "data": {
      "text/plain": [
       "'120'"
      ]
     },
     "execution_count": 31,
     "metadata": {},
     "output_type": "execute_result"
    }
   ],
   "source": [
    "modify_one(\"123\")"
   ]
  },
  {
   "cell_type": "markdown",
   "id": "a3276f0b-047e-407e-8c71-86be40530a03",
   "metadata": {},
   "source": [
    "## Problema 7 \n",
    "Escribe una función que dada una cadena de dígitos, regresa una cadena igual pero con dos dígitos cualquiera modificados a otros de forma aleatoria."
   ]
  },
  {
   "cell_type": "code",
   "execution_count": 34,
   "id": "5c6f391c-238c-49aa-8995-1c8ee32fd08f",
   "metadata": {},
   "outputs": [
    {
     "data": {
      "text/plain": [
       "'ho'"
      ]
     },
     "execution_count": 34,
     "metadata": {},
     "output_type": "execute_result"
    }
   ],
   "source": [
    "h = 'hola'\n",
    "h.replace(h[2], '').replace(h[3], '')"
   ]
  },
  {
   "cell_type": "code",
   "execution_count": 36,
   "id": "a64d5356-a8c9-4eae-b12e-b16543e253a1",
   "metadata": {},
   "outputs": [],
   "source": [
    "def modify_dos(chain):\n",
    "    \n",
    "    assert chain.isdigit(), 'Cadena con solo numeros por favor'\n",
    "    \n",
    "    index1, index2 = random.randint(0,len(chain)-1), random.randint(0,len(chain)-1)\n",
    "    new1, new2 = digito_aleatorio(), digito_aleatorio()\n",
    "    chain = chain.replace(chain[index1],'').replace(chain[index2],'')\n",
    "\n",
    "    if (index1 < index2):\n",
    "        return chain[:index1]+new1+chain[index1:index2]+new2+chain[index2+1:]\n",
    "\n",
    "    else:\n",
    "        return chain[:index2]+new2+chain[index2:index1]+new1+chain[index1+1:]"
   ]
  },
  {
   "cell_type": "code",
   "execution_count": 39,
   "id": "61672076-0e56-4be8-ae24-70fa2362efab",
   "metadata": {},
   "outputs": [
    {
     "data": {
      "text/plain": [
       "'010346989'"
      ]
     },
     "execution_count": 39,
     "metadata": {},
     "output_type": "execute_result"
    }
   ],
   "source": [
    "modify_dos('0123456789')"
   ]
  },
  {
   "cell_type": "code",
   "execution_count": 51,
   "id": "a983a056-1ffc-4465-8271-b16ad895c805",
   "metadata": {},
   "outputs": [],
   "source": [
    "def modificar_dos(cadena):\n",
    "    \n",
    "    assert not len(cadena) < 2, \"No se pueden modificar dos dígitos si hay menos de 2\"\n",
    "\n",
    "    indice_1, indice_2 = random.sample(range(len(cadena)), 2)\n",
    "\n",
    "    digito_original_1 = cadena[indice_1]\n",
    "    digito_original_2 = cadena[indice_2]\n",
    "\n",
    "    posibles_digitos = \"0123456789\"\n",
    "    \n",
    "    nuevo_digito_1 = random.choice(posibles_digitos)\n",
    "    posibles_digitos.replace(nuevo_digito_1, \"\")\n",
    "    nuevo_digito_2 = random.choice(posibles_digitos)\n",
    "\n",
    "    trans = str.maketrans(digito_original_1 + digito_original_2, nuevo_digito_1 + nuevo_digito_2)\n",
    "\n",
    "    nueva_cadena = cadena.translate(trans)\n",
    "    \n",
    "    return nueva_cadena"
   ]
  },
  {
   "cell_type": "code",
   "execution_count": 53,
   "id": "ac685654-626f-4038-b8ce-3646b629bbff",
   "metadata": {},
   "outputs": [
    {
     "data": {
      "text/plain": [
       "'0123751789'"
      ]
     },
     "execution_count": 53,
     "metadata": {},
     "output_type": "execute_result"
    }
   ],
   "source": [
    "modificar_dos(\"0123456789\")"
   ]
  },
  {
   "cell_type": "markdown",
   "id": "0e292351-bdda-4821-9f66-e41371fa9625",
   "metadata": {},
   "source": [
    "## Problema 8\n",
    "Escribe una función que dada una cadena de dígitos, regresa una cadena igual pero con tres dígitos cualquiera modificados a otros de forma aleatoria."
   ]
  },
  {
   "cell_type": "code",
   "execution_count": 60,
   "id": "aca1841e-9f1d-4f13-a9b5-a1d3d2d0e9c8",
   "metadata": {},
   "outputs": [],
   "source": [
    "def modificar_tres(cadena):\n",
    "    \n",
    "    assert not len(cadena) < 3, \"No se pueden modificar tres dígitos si hay menos de 3\"\n",
    "\n",
    "    indice_1, indice_2, indice_3 = random.sample(range(len(cadena)), 3)\n",
    "\n",
    "    digito_original_1, digito_original_2, digito_original_3 = cadena[indice_1], cadena[indice_2], cadena[indice_3]\n",
    "\n",
    "    posibles_digitos = \"0123456789\"\n",
    "    \n",
    "    nuevo_digito_1 = random.choice(posibles_digitos)\n",
    "    posibles_digitos.replace(nuevo_digito_1, \"\")\n",
    "    nuevo_digito_2 = random.choice(posibles_digitos)\n",
    "    posibles_digitos.replace(nuevo_digito_2, \"\")\n",
    "    nuevo_digito_3 = random.choice(posibles_digitos)\n",
    "\n",
    "    trans = str.maketrans(digito_original_1 + digito_original_2 + digito_original_3, nuevo_digito_1 + nuevo_digito_2 + nuevo_digito_3)\n",
    "\n",
    "    nueva_cadena = cadena.translate(trans)\n",
    "    \n",
    "    return nueva_cadena"
   ]
  },
  {
   "cell_type": "code",
   "execution_count": 65,
   "id": "90bd1332-d667-47fd-b389-9b414f4298fc",
   "metadata": {},
   "outputs": [
    {
     "data": {
      "text/plain": [
       "'5294'"
      ]
     },
     "execution_count": 65,
     "metadata": {},
     "output_type": "execute_result"
    }
   ],
   "source": [
    "modificar_tres(\"1234\")"
   ]
  },
  {
   "cell_type": "markdown",
   "id": "bf8d19af-acd4-40e3-a048-856d88e7b5cf",
   "metadata": {},
   "source": [
    "## Problema 9\n",
    "Escribe una función que dada una cadena de $N$ dígitos, regrese una cadena igual pero con $n$ dígitos cualquiera modificados a otros de forma aleatoria, donde $n \\leq N$."
   ]
  },
  {
   "cell_type": "code",
   "execution_count": 9,
   "id": "65e97928-f7ac-4dc3-b6ce-360f05c4c964",
   "metadata": {},
   "outputs": [],
   "source": [
    "def modificar_digitos(cadena, n):\n",
    "    \n",
    "    assert not (n <= 0 or n > len(cadena)),\"No se pueden modificar más dígitos de los que hay\"\n",
    "\n",
    "    indices_modificar = random.sample(range(len(cadena)), n)\n",
    "\n",
    "    posibles_digitos = '0123456789'\n",
    "    \n",
    "    trans = str.maketrans({cadena[i]: random.choice(posibles_digitos.replace(cadena[i], '')) for i in indices_modificar})\n",
    "\n",
    "    nueva_cadena = cadena.translate(trans)\n",
    "    return nueva_cadena"
   ]
  },
  {
   "cell_type": "code",
   "execution_count": 11,
   "id": "7cadf221-21aa-4375-9b6d-5b330e5d8897",
   "metadata": {},
   "outputs": [
    {
     "data": {
      "text/plain": [
       "'593706'"
      ]
     },
     "execution_count": 11,
     "metadata": {},
     "output_type": "execute_result"
    }
   ],
   "source": [
    "modificar_digitos(\"123456\", 4)"
   ]
  },
  {
   "cell_type": "code",
   "execution_count": 40,
   "id": "b73cad68-bd85-420b-8c53-a0290053131f",
   "metadata": {},
   "outputs": [],
   "source": [
    "def modificar_digitos_recursivo(cadena, n):\n",
    "    \n",
    "    indices_modificar = random.sample(range(len(cadena)), n)\n",
    "    \n",
    "    if n <= 0 or n > len(cadena) or not indices_modificar:\n",
    "        return cadena\n",
    "\n",
    "    indice_actual = indices_modificar.pop()\n",
    "    posibles_digitos = [d for d in '0123456789' if d != cadena[indice_actual]]\n",
    "\n",
    "    nuevo_digito = random.choice(posibles_digitos)\n",
    "\n",
    "    cadena = cadena[:indice_actual] + nuevo_digito + cadena[indice_actual + 1:]\n",
    "\n",
    "    return modificar_digitos_recursivo(cadena, n - 1)"
   ]
  },
  {
   "cell_type": "code",
   "execution_count": 41,
   "id": "2bf546a5-975d-4924-86ef-bca8d09425a0",
   "metadata": {},
   "outputs": [
    {
     "data": {
      "text/plain": [
       "'423426'"
      ]
     },
     "execution_count": 41,
     "metadata": {},
     "output_type": "execute_result"
    }
   ],
   "source": [
    "modificar_digitos_recursivo(\"123456\", 3)"
   ]
  },
  {
   "cell_type": "code",
   "execution_count": 54,
   "id": "2a882058-9130-498c-9771-6b635e12bba1",
   "metadata": {},
   "outputs": [],
   "source": [
    "def modificar_digitos_recursivo2(cadena, n):\n",
    "\n",
    "    assert not  (n <= 0 or n > len(cadena)), \"No se pueden modificar más dígitos de los que hay\"\n",
    "\n",
    "    indices_modificar = random.sample(range(len(cadena)), n)\n",
    "    \n",
    "    if not indices_modificar:\n",
    "        return cadena\n",
    "\n",
    "    indice_actual = indices_modificar.pop()\n",
    "    posibles_digitos = [d for d in '0123456789' if d != cadena[indice_actual]]\n",
    "\n",
    "    nuevo_digito = random.choice(posibles_digitos)\n",
    "\n",
    "    cadena = cadena[:indice_actual] + nuevo_digito + cadena[indice_actual + 1:]\n",
    "\n",
    "    return modificar_digitos_recursivo(cadena, n - 1)"
   ]
  },
  {
   "cell_type": "code",
   "execution_count": 58,
   "id": "eef9951b-c631-460b-a97f-90bd472fb3e9",
   "metadata": {},
   "outputs": [
    {
     "data": {
      "text/plain": [
       "'727416'"
      ]
     },
     "execution_count": 58,
     "metadata": {},
     "output_type": "execute_result"
    }
   ],
   "source": [
    "modificar_digitos_recursivo2(\"123456\", 3)"
   ]
  },
  {
   "cell_type": "code",
   "execution_count": null,
   "id": "ff6ea61b-8d45-4475-8706-3e55c5c7385d",
   "metadata": {},
   "outputs": [],
   "source": []
  }
 ],
 "metadata": {
  "kernelspec": {
   "display_name": "Python 3 (ipykernel)",
   "language": "python",
   "name": "python3"
  },
  "language_info": {
   "codemirror_mode": {
    "name": "ipython",
    "version": 3
   },
   "file_extension": ".py",
   "mimetype": "text/x-python",
   "name": "python",
   "nbconvert_exporter": "python",
   "pygments_lexer": "ipython3",
   "version": "3.10.5"
  }
 },
 "nbformat": 4,
 "nbformat_minor": 5
}
